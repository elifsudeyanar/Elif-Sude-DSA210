{
 "cells": [
  {
   "cell_type": "markdown",
   "id": "fc73f0fb",
   "metadata": {},
   "source": [
    "# YouTube Watch History Analysis\n",
    "\n",
    "This notebook parses your YouTube watch-history HTML, enriches the data with temporal features, and performs exploratory data analysis with 15 visualizations using pretty color palettes."
   ]
  },
  {
   "cell_type": "markdown",
   "id": "11240815",
   "metadata": {},
   "source": [
    "## 1. Parse YouTube Watch History HTML"
   ]
  },
  {
   "cell_type": "code",
   "execution_count": null,
   "id": "15af83fb",
   "metadata": {},
   "outputs": [],
   "source": [
    "from lxml import etree\n",
    "import pandas as pd\n",
    "from dateutil import parser\n",
    "\n",
    "# Load HTML\n",
    "with open('watch_history.html', 'r', encoding='utf-8') as f:\n",
    "    html = f.read()\n",
    "\n",
    "# Parse HTML and extract records\n",
    "tree = etree.HTML(html)\n",
    "records = []\n",
    "for div in tree.xpath('//div[contains(@class,\"content-cell\") and contains(@class,\"mdl-cell--6-col\")]'):\n",
    "    title_el   = div.xpath('.//a[1]/text()')\n",
    "    channel_el = div.xpath('.//a[2]/text()')\n",
    "    date_el    = div.xpath('.//span/text() | .//text()[normalize-space()][last()]')\n",
    "\n",
    "    title    = title_el[0].strip()   if title_el   else None\n",
    "    channel  = channel_el[0].strip() if channel_el else None\n",
    "    date_str = date_el[0].strip()    if date_el    else None\n",
    "\n",
    "    try:\n",
    "        watched_at = parser.parse(date_str)\n",
    "    except:\n",
    "        watched_at = pd.NaT\n",
    "\n",
    "    if title and channel and pd.notna(watched_at):\n",
    "        records.append({\n",
    "            'video_title':  title,\n",
    "            'channel_name': channel,\n",
    "            'watched_at':   watched_at\n",
    "        })\n",
    "\n",
    "# Create DataFrame\n",
    "df = pd.DataFrame(records)\n",
    "df['watched_at'] = pd.to_datetime(df['watched_at'])\n",
    "df.head()"
   ]
  },
  {
   "cell_type": "markdown",
   "id": "22eb8465",
   "metadata": {},
   "source": [
    "## 2. Feature Engineering"
   ]
  },
  {
   "cell_type": "code",
   "execution_count": null,
   "id": "e3d65858",
   "metadata": {},
   "outputs": [],
   "source": [
    "# Add temporal features\n",
    "df['date']        = df['watched_at'].dt.date\n",
    "df['time']        = df['watched_at'].dt.time\n",
    "df['day_of_week'] = df['watched_at'].dt.day_name()\n",
    "df['hour']        = df['watched_at'].dt.hour\n",
    "\n",
    "def time_bin(h):\n",
    "    if 6 <= h < 12:   return 'Morning'\n",
    "    if 12 <= h < 18:  return 'Afternoon'\n",
    "    if 18 <= h < 24:  return 'Evening'\n",
    "    return 'Night'\n",
    "\n",
    "df['time_bin'] = df['hour'].apply(time_bin)\n",
    "df.head()"
   ]
  },
  {
   "cell_type": "markdown",
   "id": "a97207d4",
   "metadata": {},
   "source": [
    "## 3. Exploratory Data Analysis"
   ]
  },
  {
   "cell_type": "code",
   "execution_count": null,
   "id": "3be61cd4",
   "metadata": {},
   "outputs": [],
   "source": [
    "import matplotlib.pyplot as plt\n",
    "\n",
    "dow_order = ['Monday','Tuesday','Wednesday','Thursday','Friday','Saturday','Sunday']\n",
    "palette_dow = ['#4E79A7','#59A14F','#F28E2B','#E15759','#76B7B2','#EDC949','#AF7AA1']\n",
    "\n",
    "plt.figure()\n",
    "df['day_of_week'].value_counts().reindex(dow_order).plot(\n",
    "    kind='bar', color=palette_dow\n",
    ")\n",
    "plt.title('Watch Count by Day of Week')\n",
    "plt.xlabel('')\n",
    "plt.ylabel('Count')\n",
    "plt.tight_layout()\n",
    "plt.show()"
   ]
  },
  {
   "cell_type": "code",
   "execution_count": null,
   "id": "7f728690",
   "metadata": {},
   "outputs": [],
   "source": [
    "palette_tb = ['#4E79A7','#F28E2B','#59A14F','#E15759']\n",
    "plt.figure()\n",
    "df['time_bin'].value_counts().reindex(['Morning','Afternoon','Evening','Night']).plot(\n",
    "    kind='bar', color=palette_tb\n",
    ")\n",
    "plt.title('Watch Count by Time of Day')\n",
    "plt.xlabel('')\n",
    "plt.ylabel('Count')\n",
    "plt.tight_layout()\n",
    "plt.show()"
   ]
  },
  {
   "cell_type": "code",
   "execution_count": null,
   "id": "316a9f9f",
   "metadata": {},
   "outputs": [],
   "source": [
    "palette_chan = ['#4E79A7']*10\n",
    "plt.figure(figsize=(8,5))\n",
    "df['channel_name'].value_counts().head(10).plot(\n",
    "    kind='barh', color=palette_chan\n",
    ")\n",
    "plt.title('Top 10 Watched Channels')\n",
    "plt.xlabel('Count')\n",
    "plt.tight_layout()\n",
    "plt.show()"
   ]
  },
  {
   "cell_type": "code",
   "execution_count": null,
   "id": "f346a1c2",
   "metadata": {},
   "outputs": [],
   "source": [
    "daily = df.set_index('watched_at').resample('D').size()\n",
    "plt.figure()\n",
    "daily.plot(color='#59A14F')\n",
    "plt.title('Daily Watch Count')\n",
    "plt.xlabel('Date')\n",
    "plt.ylabel('Count')\n",
    "plt.tight_layout()\n",
    "plt.show()"
   ]
  },
  {
   "cell_type": "code",
   "execution_count": null,
   "id": "3444c97e",
   "metadata": {},
   "outputs": [],
   "source": [
    "rolling7 = daily.rolling(7).mean()\n",
    "plt.figure()\n",
    "rolling7.plot(color='#F28E2B')\n",
    "plt.title('7-Day Rolling Average of Daily Count')\n",
    "plt.xlabel('Date')\n",
    "plt.ylabel('Avg Count')\n",
    "plt.tight_layout()\n",
    "plt.show()"
   ]
  },
  {
   "cell_type": "code",
   "execution_count": null,
   "id": "813226b7",
   "metadata": {},
   "outputs": [],
   "source": [
    "import numpy as np\n",
    "pivot_dh = df.pivot_table(index='day_of_week', columns='hour', aggfunc='size', fill_value=0)\n",
    "pivot_dh = pivot_dh.reindex(dow_order)\n",
    "\n",
    "plt.figure(figsize=(10,4))\n",
    "plt.imshow(pivot_dh, aspect='auto', cmap='viridis')\n",
    "plt.xticks(np.arange(24), np.arange(24))\n",
    "plt.yticks(np.arange(len(dow_order)), dow_order)\n",
    "plt.colorbar(label='Count')\n",
    "plt.title('Heatmap: Day of Week vs Hour')\n",
    "plt.tight_layout()\n",
    "plt.show()"
   ]
  },
  {
   "cell_type": "code",
   "execution_count": null,
   "id": "f6c51e0d",
   "metadata": {},
   "outputs": [],
   "source": [
    "plt.figure()\n",
    "df['hour'].plot(kind='hist', bins=24, edgecolor='black', color='#76B7B2')\n",
    "plt.title('Distribution of Watch Hours')\n",
    "plt.xlabel('Hour of Day')\n",
    "plt.ylabel('Frequency')\n",
    "plt.tight_layout()\n",
    "plt.show()"
   ]
  },
  {
   "cell_type": "code",
   "execution_count": null,
   "id": "52ee2bbe",
   "metadata": {},
   "outputs": [],
   "source": [
    "weekly = df.set_index('watched_at').resample('W-MON').size()\n",
    "plt.figure()\n",
    "weekly.plot(marker='o', linestyle='-', color='#E15759')\n",
    "plt.title('Weekly Watch Count (Mon–Sun)')\n",
    "plt.xlabel('Week Starting')\n",
    "plt.ylabel('Count')\n",
    "plt.tight_layout()\n",
    "plt.show()"
   ]
  },
  {
   "cell_type": "code",
   "execution_count": null,
   "id": "17c5506b",
   "metadata": {},
   "outputs": [],
   "source": [
    "monthly = df.set_index('watched_at').resample('M').size()\n",
    "plt.figure()\n",
    "monthly.plot(marker='s', linestyle='-', color='#AF7AA1')\n",
    "plt.title('Monthly Watch Count')\n",
    "plt.xlabel('Month')\n",
    "plt.ylabel('Count')\n",
    "plt.tight_layout()\n",
    "plt.show()"
   ]
  },
  {
   "cell_type": "code",
   "execution_count": null,
   "id": "8079b7e0",
   "metadata": {},
   "outputs": [],
   "source": [
    "plt.figure()\n",
    "df['time_bin'].value_counts().reindex(['Morning','Afternoon','Evening','Night']).plot(\n",
    "    kind='pie', autopct='%1.1f%%', startangle=90,\n",
    "    colors=palette_tb\n",
    ")\n",
    "plt.title('Proportion by Time Bin')\n",
    "plt.ylabel('')\n",
    "plt.tight_layout()\n",
    "plt.show()"
   ]
  },
  {
   "cell_type": "code",
   "execution_count": null,
   "id": "200ffaa6",
   "metadata": {},
   "outputs": [],
   "source": [
    "df['month'] = df['watched_at'].dt.month_name()\n",
    "pivot_dm = df.pivot_table(index='day_of_week', columns='month', aggfunc='size', fill_value=0)\n",
    "pivot_dm = pivot_dm.reindex(index=dow_order, columns=[\n",
    "    'January','February','March','April','May','June','July','August',\n",
    "    'September','October','November','December'\n",
    "])\n",
    "plt.figure(figsize=(10,6))\n",
    "plt.imshow(pivot_dm, aspect='auto', cmap='plasma')\n",
    "plt.xticks(np.arange(12), pivot_dm.columns, rotation=90)\n",
    "plt.yticks(np.arange(len(dow_order)), dow_order)\n",
    "plt.colorbar(label='Count')\n",
    "plt.title('Heatmap: Day of Week vs Month')\n",
    "plt.tight_layout()\n",
    "plt.show()"
   ]
  },
  {
   "cell_type": "code",
   "execution_count": null,
   "id": "d2e90ec7",
   "metadata": {},
   "outputs": [],
   "source": [
    "plt.figure(figsize=(8,5))\n",
    "data_dw = [df[df['day_of_week']==d]['hour'] for d in dow_order]\n",
    "plt.boxplot(data_dw, labels=dow_order)\n",
    "plt.title('Hour Distribution by Day of Week')\n",
    "plt.ylabel('Hour')\n",
    "plt.tight_layout()\n",
    "plt.show()"
   ]
  },
  {
   "cell_type": "code",
   "execution_count": null,
   "id": "66279be5",
   "metadata": {},
   "outputs": [],
   "source": [
    "plt.figure()\n",
    "data_tb2 = [df[df['time_bin']==tb]['hour'] for tb in ['Morning','Afternoon','Evening','Night']]\n",
    "plt.boxplot(data_tb2, labels=['Morning','Afternoon','Evening','Night'])\n",
    "plt.title('Hour Distribution by Time Bin')\n",
    "plt.ylabel('Hour')\n",
    "plt.tight_layout()\n",
    "plt.show()"
   ]
  },
  {
   "cell_type": "code",
   "execution_count": null,
   "id": "a15ce106",
   "metadata": {},
   "outputs": [],
   "source": [
    "mtb = df.groupby([df['watched_at'].dt.to_period('M'),'time_bin']).size().unstack(fill_value=0)\n",
    "mtb.index = mtb.index.to_timestamp()\n",
    "plt.figure(figsize=(10,6))\n",
    "mtb[['Morning','Afternoon','Evening','Night']].plot(\n",
    "    kind='bar', stacked=True, colormap='tab20', width=0.8\n",
    ")\n",
    "plt.title('Monthly Distribution of Time Bins')\n",
    "plt.xlabel('Month')\n",
    "plt.ylabel('Count')\n",
    "plt.tight_layout()\n",
    "plt.show()"
   ]
  },
  {
   "cell_type": "code",
   "execution_count": null,
   "id": "739abd37",
   "metadata": {},
   "outputs": [],
   "source": [
    "plt.figure()\n",
    "daily_vals = daily.values\n",
    "plt.scatter(daily_vals[:-1], daily_vals[1:], color='#EDC949', alpha=0.6)\n",
    "plt.title('Lag Plot: Day N vs Day N+1')\n",
    "plt.xlabel('Count Day N')\n",
    "plt.ylabel('Count Day N+1')\n",
    "plt.tight_layout()\n",
    "plt.show()"
   ]
  }
 ],
 "metadata": {
  "kernelspec": {
   "display_name": "base",
   "language": "python",
   "name": "python3"
  },
  "language_info": {
   "codemirror_mode": {
    "name": "ipython",
    "version": 3
   },
   "file_extension": ".py",
   "mimetype": "text/x-python",
   "name": "python",
   "nbconvert_exporter": "python",
   "pygments_lexer": "ipython3",
   "version": "3.12.2"
  }
 },
 "nbformat": 4,
 "nbformat_minor": 5
}
